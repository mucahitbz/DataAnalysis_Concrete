{
 "cells": [
  {
   "cell_type": "code",
   "execution_count": 1,
   "id": "ae98c762",
   "metadata": {},
   "outputs": [
    {
     "name": "stdout",
     "output_type": "stream",
     "text": [
      "(1030, 9)\n"
     ]
    },
    {
     "data": {
      "text/html": [
       "<div>\n",
       "<style scoped>\n",
       "    .dataframe tbody tr th:only-of-type {\n",
       "        vertical-align: middle;\n",
       "    }\n",
       "\n",
       "    .dataframe tbody tr th {\n",
       "        vertical-align: top;\n",
       "    }\n",
       "\n",
       "    .dataframe thead th {\n",
       "        text-align: right;\n",
       "    }\n",
       "</style>\n",
       "<table border=\"1\" class=\"dataframe\">\n",
       "  <thead>\n",
       "    <tr style=\"text-align: right;\">\n",
       "      <th></th>\n",
       "      <th>cement</th>\n",
       "      <th>slag</th>\n",
       "      <th>flyash</th>\n",
       "      <th>water</th>\n",
       "      <th>superplasticizer</th>\n",
       "      <th>coarseaggregate</th>\n",
       "      <th>fineaggregate</th>\n",
       "      <th>age</th>\n",
       "      <th>csMPa</th>\n",
       "    </tr>\n",
       "  </thead>\n",
       "  <tbody>\n",
       "    <tr>\n",
       "      <th>0</th>\n",
       "      <td>540.0</td>\n",
       "      <td>0.0</td>\n",
       "      <td>0.0</td>\n",
       "      <td>162.0</td>\n",
       "      <td>2.5</td>\n",
       "      <td>1040.0</td>\n",
       "      <td>676.0</td>\n",
       "      <td>28</td>\n",
       "      <td>79.99</td>\n",
       "    </tr>\n",
       "    <tr>\n",
       "      <th>1</th>\n",
       "      <td>540.0</td>\n",
       "      <td>0.0</td>\n",
       "      <td>0.0</td>\n",
       "      <td>162.0</td>\n",
       "      <td>2.5</td>\n",
       "      <td>1055.0</td>\n",
       "      <td>676.0</td>\n",
       "      <td>28</td>\n",
       "      <td>61.89</td>\n",
       "    </tr>\n",
       "    <tr>\n",
       "      <th>2</th>\n",
       "      <td>332.5</td>\n",
       "      <td>142.5</td>\n",
       "      <td>0.0</td>\n",
       "      <td>228.0</td>\n",
       "      <td>0.0</td>\n",
       "      <td>932.0</td>\n",
       "      <td>594.0</td>\n",
       "      <td>270</td>\n",
       "      <td>40.27</td>\n",
       "    </tr>\n",
       "    <tr>\n",
       "      <th>3</th>\n",
       "      <td>332.5</td>\n",
       "      <td>142.5</td>\n",
       "      <td>0.0</td>\n",
       "      <td>228.0</td>\n",
       "      <td>0.0</td>\n",
       "      <td>932.0</td>\n",
       "      <td>594.0</td>\n",
       "      <td>365</td>\n",
       "      <td>41.05</td>\n",
       "    </tr>\n",
       "    <tr>\n",
       "      <th>4</th>\n",
       "      <td>198.6</td>\n",
       "      <td>132.4</td>\n",
       "      <td>0.0</td>\n",
       "      <td>192.0</td>\n",
       "      <td>0.0</td>\n",
       "      <td>978.4</td>\n",
       "      <td>825.5</td>\n",
       "      <td>360</td>\n",
       "      <td>44.30</td>\n",
       "    </tr>\n",
       "  </tbody>\n",
       "</table>\n",
       "</div>"
      ],
      "text/plain": [
       "   cement   slag  flyash  water  superplasticizer  coarseaggregate  \\\n",
       "0   540.0    0.0     0.0  162.0               2.5           1040.0   \n",
       "1   540.0    0.0     0.0  162.0               2.5           1055.0   \n",
       "2   332.5  142.5     0.0  228.0               0.0            932.0   \n",
       "3   332.5  142.5     0.0  228.0               0.0            932.0   \n",
       "4   198.6  132.4     0.0  192.0               0.0            978.4   \n",
       "\n",
       "   fineaggregate  age  csMPa  \n",
       "0          676.0   28  79.99  \n",
       "1          676.0   28  61.89  \n",
       "2          594.0  270  40.27  \n",
       "3          594.0  365  41.05  \n",
       "4          825.5  360  44.30  "
      ]
     },
     "execution_count": 1,
     "metadata": {},
     "output_type": "execute_result"
    }
   ],
   "source": [
    "import pandas as pd\n",
    "import numpy as np\n",
    "beton = pd.read_csv(\"Concrete.csv\")\n",
    "print(beton.shape)\n",
    "beton.head()"
   ]
  },
  {
   "cell_type": "code",
   "execution_count": 2,
   "id": "456be91e",
   "metadata": {},
   "outputs": [
    {
     "data": {
      "text/plain": [
       "cement              0\n",
       "slag                0\n",
       "flyash              0\n",
       "water               0\n",
       "superplasticizer    0\n",
       "coarseaggregate     0\n",
       "fineaggregate       0\n",
       "age                 0\n",
       "csMPa               0\n",
       "dtype: int64"
      ]
     },
     "execution_count": 2,
     "metadata": {},
     "output_type": "execute_result"
    }
   ],
   "source": [
    "beton.isna().sum() "
   ]
  },
  {
   "cell_type": "code",
   "execution_count": 3,
   "id": "71eabb3e",
   "metadata": {},
   "outputs": [
    {
     "name": "stdout",
     "output_type": "stream",
     "text": [
      "Q1: 0.0, Q3: 142.95, IQR = 142.95\n",
      "-214.42499999999998\n",
      "357.375\n"
     ]
    },
    {
     "name": "stderr",
     "output_type": "stream",
     "text": [
      "C:\\Users\\korkm\\AppData\\Local\\Temp\\ipykernel_30292\\3540000155.py:13: SettingWithCopyWarning: \n",
      "A value is trying to be set on a copy of a slice from a DataFrame\n",
      "\n",
      "See the caveats in the documentation: https://pandas.pydata.org/pandas-docs/stable/user_guide/indexing.html#returning-a-view-versus-a-copy\n",
      "  sutun_slag[sutun_slag > ust_sinir]  = ust_sinir\n",
      "C:\\Users\\korkm\\AppData\\Local\\Temp\\ipykernel_30292\\3540000155.py:14: SettingWithCopyWarning: \n",
      "A value is trying to be set on a copy of a slice from a DataFrame\n",
      "\n",
      "See the caveats in the documentation: https://pandas.pydata.org/pandas-docs/stable/user_guide/indexing.html#returning-a-view-versus-a-copy\n",
      "  sutun_slag[sutun_slag < alt_sinir]  = alt_sinir\n"
     ]
    }
   ],
   "source": [
    "sutun_slag = beton[\"slag\"]\n",
    "sutun_slag\n",
    "Q1 = sutun_slag.quantile (0.25)\n",
    "Q3 = sutun_slag.quantile (0.75)\n",
    "IQR = Q3 - Q1\n",
    "print (\"Q1: {}, Q3: {}, IQR = {}\".format(Q1,Q3,IQR))\n",
    "alt_sinir = Q1 - (IQR*1.5) \n",
    "ust_sinir = Q3 + (IQR*1.5)\n",
    "print (alt_sinir)\n",
    "print (ust_sinir)\n",
    "sutun_slag[sutun_slag< alt_sinir].count()\n",
    "sutun_slag[sutun_slag> ust_sinir].count()\n",
    "sutun_slag[sutun_slag > ust_sinir]  = ust_sinir \n",
    "sutun_slag[sutun_slag < alt_sinir]  = alt_sinir "
   ]
  },
  {
   "cell_type": "code",
   "execution_count": 4,
   "id": "ae2ccbf7",
   "metadata": {},
   "outputs": [
    {
     "name": "stdout",
     "output_type": "stream",
     "text": [
      "Q1: 164.9, Q3: 192.0, IQR = 27.099999999999994\n",
      "124.25000000000001\n",
      "232.64999999999998\n",
      "5\n",
      "4\n"
     ]
    },
    {
     "name": "stderr",
     "output_type": "stream",
     "text": [
      "C:\\Users\\korkm\\AppData\\Local\\Temp\\ipykernel_30292\\3494876680.py:13: SettingWithCopyWarning: \n",
      "A value is trying to be set on a copy of a slice from a DataFrame\n",
      "\n",
      "See the caveats in the documentation: https://pandas.pydata.org/pandas-docs/stable/user_guide/indexing.html#returning-a-view-versus-a-copy\n",
      "  sutun_water[sutun_water > ust_sinir]  = ust_sinir\n",
      "C:\\Users\\korkm\\AppData\\Local\\Temp\\ipykernel_30292\\3494876680.py:14: SettingWithCopyWarning: \n",
      "A value is trying to be set on a copy of a slice from a DataFrame\n",
      "\n",
      "See the caveats in the documentation: https://pandas.pydata.org/pandas-docs/stable/user_guide/indexing.html#returning-a-view-versus-a-copy\n",
      "  sutun_water[sutun_water < alt_sinir]  = alt_sinir\n"
     ]
    }
   ],
   "source": [
    "sutun_water = beton[\"water\"]\n",
    "sutun_water\n",
    "Q1 = sutun_water.quantile (0.25)\n",
    "Q3 = sutun_water.quantile (0.75)\n",
    "IQR = Q3 - Q1\n",
    "print (\"Q1: {}, Q3: {}, IQR = {}\".format(Q1,Q3,IQR))\n",
    "alt_sinir = Q1 - (IQR*1.5) \n",
    "ust_sinir = Q3 + (IQR*1.5)\n",
    "print (alt_sinir)\n",
    "print (ust_sinir)\n",
    "print(sutun_water[sutun_water< alt_sinir].count())\n",
    "print(sutun_water[sutun_water> ust_sinir].count())\n",
    "sutun_water[sutun_water > ust_sinir]  = ust_sinir \n",
    "sutun_water[sutun_water < alt_sinir]  = alt_sinir "
   ]
  },
  {
   "cell_type": "code",
   "execution_count": 5,
   "id": "1bac59fb",
   "metadata": {},
   "outputs": [
    {
     "name": "stdout",
     "output_type": "stream",
     "text": [
      "Q1: 0.0, Q3: 10.2, IQR = 10.2\n",
      "-15.299999999999999\n",
      "25.5\n",
      "0\n",
      "10\n"
     ]
    },
    {
     "name": "stderr",
     "output_type": "stream",
     "text": [
      "C:\\Users\\korkm\\AppData\\Local\\Temp\\ipykernel_30292\\2420485509.py:13: SettingWithCopyWarning: \n",
      "A value is trying to be set on a copy of a slice from a DataFrame\n",
      "\n",
      "See the caveats in the documentation: https://pandas.pydata.org/pandas-docs/stable/user_guide/indexing.html#returning-a-view-versus-a-copy\n",
      "  sutun_superplasticizer[sutun_superplasticizer > ust_sinir]  = ust_sinir\n",
      "C:\\Users\\korkm\\AppData\\Local\\Temp\\ipykernel_30292\\2420485509.py:14: SettingWithCopyWarning: \n",
      "A value is trying to be set on a copy of a slice from a DataFrame\n",
      "\n",
      "See the caveats in the documentation: https://pandas.pydata.org/pandas-docs/stable/user_guide/indexing.html#returning-a-view-versus-a-copy\n",
      "  sutun_superplasticizer[sutun_superplasticizer < alt_sinir]  = alt_sinir\n"
     ]
    }
   ],
   "source": [
    "sutun_superplasticizer = beton[\"superplasticizer\"]\n",
    "sutun_superplasticizer\n",
    "Q1 = sutun_superplasticizer.quantile (0.25)\n",
    "Q3 = sutun_superplasticizer.quantile (0.75)\n",
    "IQR = Q3 - Q1\n",
    "print (\"Q1: {}, Q3: {}, IQR = {}\".format(Q1,Q3,IQR))\n",
    "alt_sinir = Q1 - (IQR*1.5) \n",
    "ust_sinir = Q3 + (IQR*1.5)\n",
    "print (alt_sinir)\n",
    "print (ust_sinir)\n",
    "print(sutun_superplasticizer[sutun_superplasticizer< alt_sinir].count())\n",
    "print(sutun_superplasticizer[sutun_superplasticizer> ust_sinir].count())\n",
    "sutun_superplasticizer[sutun_superplasticizer > ust_sinir]  = ust_sinir \n",
    "sutun_superplasticizer[sutun_superplasticizer < alt_sinir]  = alt_sinir "
   ]
  },
  {
   "cell_type": "code",
   "execution_count": 6,
   "id": "c71075f4",
   "metadata": {},
   "outputs": [
    {
     "name": "stdout",
     "output_type": "stream",
     "text": [
      "Q1: 730.95, Q3: 824.0, IQR = 93.04999999999995\n",
      "591.3750000000001\n",
      "963.5749999999999\n",
      "0\n",
      "5\n"
     ]
    },
    {
     "name": "stderr",
     "output_type": "stream",
     "text": [
      "C:\\Users\\korkm\\AppData\\Local\\Temp\\ipykernel_30292\\4240813761.py:13: SettingWithCopyWarning: \n",
      "A value is trying to be set on a copy of a slice from a DataFrame\n",
      "\n",
      "See the caveats in the documentation: https://pandas.pydata.org/pandas-docs/stable/user_guide/indexing.html#returning-a-view-versus-a-copy\n",
      "  sutun_fineaggregate[sutun_fineaggregate > ust_sinir]  = ust_sinir\n",
      "C:\\Users\\korkm\\AppData\\Local\\Temp\\ipykernel_30292\\4240813761.py:14: SettingWithCopyWarning: \n",
      "A value is trying to be set on a copy of a slice from a DataFrame\n",
      "\n",
      "See the caveats in the documentation: https://pandas.pydata.org/pandas-docs/stable/user_guide/indexing.html#returning-a-view-versus-a-copy\n",
      "  sutun_fineaggregate[sutun_fineaggregate < alt_sinir]  = alt_sinir\n"
     ]
    }
   ],
   "source": [
    "sutun_fineaggregate= beton[\"fineaggregate\"]\n",
    "sutun_fineaggregate\n",
    "Q1 = sutun_fineaggregate.quantile (0.25)\n",
    "Q3 = sutun_fineaggregate.quantile (0.75)\n",
    "IQR = Q3 - Q1\n",
    "print (\"Q1: {}, Q3: {}, IQR = {}\".format(Q1,Q3,IQR))\n",
    "alt_sinir = Q1 - (IQR*1.5) \n",
    "ust_sinir = Q3 + (IQR*1.5)\n",
    "print (alt_sinir)\n",
    "print (ust_sinir)\n",
    "print(sutun_fineaggregate[sutun_fineaggregate< alt_sinir].count())\n",
    "print(sutun_fineaggregate[sutun_fineaggregate> ust_sinir].count())\n",
    "sutun_fineaggregate[sutun_fineaggregate > ust_sinir]  = ust_sinir \n",
    "sutun_fineaggregate[sutun_fineaggregate < alt_sinir]  = alt_sinir "
   ]
  },
  {
   "cell_type": "code",
   "execution_count": 7,
   "id": "fdcc984a",
   "metadata": {},
   "outputs": [
    {
     "name": "stdout",
     "output_type": "stream",
     "text": [
      "Q1: 7.0, Q3: 56.0, IQR = 49.0\n",
      "-66.5\n",
      "129.5\n",
      "0\n",
      "59\n"
     ]
    },
    {
     "name": "stderr",
     "output_type": "stream",
     "text": [
      "C:\\Users\\korkm\\AppData\\Local\\Temp\\ipykernel_30292\\480170388.py:13: SettingWithCopyWarning: \n",
      "A value is trying to be set on a copy of a slice from a DataFrame\n",
      "\n",
      "See the caveats in the documentation: https://pandas.pydata.org/pandas-docs/stable/user_guide/indexing.html#returning-a-view-versus-a-copy\n",
      "  sutun_age[sutun_age > ust_sinir]  = ust_sinir\n",
      "C:\\Users\\korkm\\AppData\\Local\\Temp\\ipykernel_30292\\480170388.py:13: FutureWarning: Setting an item of incompatible dtype is deprecated and will raise in a future error of pandas. Value '129.5' has dtype incompatible with int64, please explicitly cast to a compatible dtype first.\n",
      "  sutun_age[sutun_age > ust_sinir]  = ust_sinir\n"
     ]
    }
   ],
   "source": [
    "sutun_age= beton[\"age\"]\n",
    "sutun_age\n",
    "Q1 = sutun_age.quantile (0.25)\n",
    "Q3 = sutun_age.quantile (0.75)\n",
    "IQR = Q3 - Q1\n",
    "print (\"Q1: {}, Q3: {}, IQR = {}\".format(Q1,Q3,IQR))\n",
    "alt_sinir = Q1 - (IQR*1.5) \n",
    "ust_sinir = Q3 + (IQR*1.5)\n",
    "print (alt_sinir)\n",
    "print (ust_sinir)\n",
    "print(sutun_age[sutun_age< alt_sinir].count())\n",
    "print(sutun_age[sutun_age> ust_sinir].count())\n",
    "sutun_age[sutun_age > ust_sinir]  = ust_sinir \n",
    "sutun_age[sutun_age < alt_sinir]  = alt_sinir "
   ]
  },
  {
   "cell_type": "code",
   "execution_count": 8,
   "id": "eb086183",
   "metadata": {},
   "outputs": [
    {
     "name": "stdout",
     "output_type": "stream",
     "text": [
      "Q1: 23.71, Q3: 46.135000000000005, IQR = 22.425000000000004\n",
      "-9.927500000000002\n",
      "79.77250000000001\n",
      "0\n",
      "4\n"
     ]
    }
   ],
   "source": [
    "sutun_csMPa= beton[\"csMPa\"]\n",
    "sutun_csMPa\n",
    "Q1 = sutun_csMPa.quantile (0.25)\n",
    "Q3 = sutun_csMPa.quantile (0.75)\n",
    "IQR = Q3 - Q1\n",
    "print (\"Q1: {}, Q3: {}, IQR = {}\".format(Q1,Q3,IQR))\n",
    "alt_sinir = Q1 - (IQR*1.5) \n",
    "ust_sinir = Q3 + (IQR*1.5)\n",
    "print (alt_sinir)\n",
    "print (ust_sinir)\n",
    "print(sutun_csMPa[sutun_csMPa< alt_sinir].count())\n",
    "print(sutun_csMPa[sutun_csMPa> ust_sinir].count())\n",
    "sutun_csMPa[sutun_csMPa > ust_sinir]  = ust_sinir \n",
    "sutun_csMPa[sutun_csMPa< alt_sinir]  = alt_sinir "
   ]
  },
  {
   "cell_type": "code",
   "execution_count": 9,
   "id": "a3495fb8",
   "metadata": {},
   "outputs": [
    {
     "data": {
      "text/plain": [
       "<Axes: >"
      ]
     },
     "execution_count": 9,
     "metadata": {},
     "output_type": "execute_result"
    },
    {
     "data": {
      "image/png": "[encoded data removed]",
      "text/plain": [
       "<Figure size 640x480 with 1 Axes>"
      ]
     },
     "metadata": {},
     "output_type": "display_data"
    }
   ],
   "source": [
    "beton.plot.box() "
   ]
  },
  {
   "cell_type": "code",
   "execution_count": 10,
   "id": "08c3175d",
   "metadata": {},
   "outputs": [],
   "source": [
    "import matplotlib.pyplot as plt\n",
    "from sklearn.linear_model import LinearRegression\n",
    "from sklearn.metrics import r2_score, mean_absolute_error, mean_squared_error\n",
    "from sklearn.model_selection import train_test_split\n",
    "y = beton['csMPa']\n",
    "X = beton.drop(['csMPa','flyash'], axis=1)"
   ]
  },
  {
   "cell_type": "code",
   "execution_count": 11,
   "id": "35150a12",
   "metadata": {},
   "outputs": [
    {
     "data": {
      "text/plain": [
       "0       79.7725\n",
       "1       61.8900\n",
       "2       40.2700\n",
       "3       41.0500\n",
       "4       44.3000\n",
       "         ...   \n",
       "1025    44.2800\n",
       "1026    31.1800\n",
       "1027    23.7000\n",
       "1028    32.7700\n",
       "1029    32.4000\n",
       "Name: csMPa, Length: 1030, dtype: float64"
      ]
     },
     "execution_count": 11,
     "metadata": {},
     "output_type": "execute_result"
    }
   ],
   "source": [
    "y"
   ]
  },
  {
   "cell_type": "code",
   "execution_count": 12,
   "id": "37aad65e",
   "metadata": {},
   "outputs": [
    {
     "data": {
      "text/html": [
       "<div>\n",
       "<style scoped>\n",
       "    .dataframe tbody tr th:only-of-type {\n",
       "        vertical-align: middle;\n",
       "    }\n",
       "\n",
       "    .dataframe tbody tr th {\n",
       "        vertical-align: top;\n",
       "    }\n",
       "\n",
       "    .dataframe thead th {\n",
       "        text-align: right;\n",
       "    }\n",
       "</style>\n",
       "<table border=\"1\" class=\"dataframe\">\n",
       "  <thead>\n",
       "    <tr style=\"text-align: right;\">\n",
       "      <th></th>\n",
       "      <th>cement</th>\n",
       "      <th>slag</th>\n",
       "      <th>water</th>\n",
       "      <th>superplasticizer</th>\n",
       "      <th>coarseaggregate</th>\n",
       "      <th>fineaggregate</th>\n",
       "      <th>age</th>\n",
       "    </tr>\n",
       "  </thead>\n",
       "  <tbody>\n",
       "    <tr>\n",
       "      <th>0</th>\n",
       "      <td>540.0</td>\n",
       "      <td>0.0</td>\n",
       "      <td>162.0</td>\n",
       "      <td>2.5</td>\n",
       "      <td>1040.0</td>\n",
       "      <td>676.0</td>\n",
       "      <td>28.0</td>\n",
       "    </tr>\n",
       "    <tr>\n",
       "      <th>1</th>\n",
       "      <td>540.0</td>\n",
       "      <td>0.0</td>\n",
       "      <td>162.0</td>\n",
       "      <td>2.5</td>\n",
       "      <td>1055.0</td>\n",
       "      <td>676.0</td>\n",
       "      <td>28.0</td>\n",
       "    </tr>\n",
       "    <tr>\n",
       "      <th>2</th>\n",
       "      <td>332.5</td>\n",
       "      <td>142.5</td>\n",
       "      <td>228.0</td>\n",
       "      <td>0.0</td>\n",
       "      <td>932.0</td>\n",
       "      <td>594.0</td>\n",
       "      <td>129.5</td>\n",
       "    </tr>\n",
       "    <tr>\n",
       "      <th>3</th>\n",
       "      <td>332.5</td>\n",
       "      <td>142.5</td>\n",
       "      <td>228.0</td>\n",
       "      <td>0.0</td>\n",
       "      <td>932.0</td>\n",
       "      <td>594.0</td>\n",
       "      <td>129.5</td>\n",
       "    </tr>\n",
       "    <tr>\n",
       "      <th>4</th>\n",
       "      <td>198.6</td>\n",
       "      <td>132.4</td>\n",
       "      <td>192.0</td>\n",
       "      <td>0.0</td>\n",
       "      <td>978.4</td>\n",
       "      <td>825.5</td>\n",
       "      <td>129.5</td>\n",
       "    </tr>\n",
       "    <tr>\n",
       "      <th>...</th>\n",
       "      <td>...</td>\n",
       "      <td>...</td>\n",
       "      <td>...</td>\n",
       "      <td>...</td>\n",
       "      <td>...</td>\n",
       "      <td>...</td>\n",
       "      <td>...</td>\n",
       "    </tr>\n",
       "    <tr>\n",
       "      <th>1025</th>\n",
       "      <td>276.4</td>\n",
       "      <td>116.0</td>\n",
       "      <td>179.6</td>\n",
       "      <td>8.9</td>\n",
       "      <td>870.1</td>\n",
       "      <td>768.3</td>\n",
       "      <td>28.0</td>\n",
       "    </tr>\n",
       "    <tr>\n",
       "      <th>1026</th>\n",
       "      <td>322.2</td>\n",
       "      <td>0.0</td>\n",
       "      <td>196.0</td>\n",
       "      <td>10.4</td>\n",
       "      <td>817.9</td>\n",
       "      <td>813.4</td>\n",
       "      <td>28.0</td>\n",
       "    </tr>\n",
       "    <tr>\n",
       "      <th>1027</th>\n",
       "      <td>148.5</td>\n",
       "      <td>139.4</td>\n",
       "      <td>192.7</td>\n",
       "      <td>6.1</td>\n",
       "      <td>892.4</td>\n",
       "      <td>780.0</td>\n",
       "      <td>28.0</td>\n",
       "    </tr>\n",
       "    <tr>\n",
       "      <th>1028</th>\n",
       "      <td>159.1</td>\n",
       "      <td>186.7</td>\n",
       "      <td>175.6</td>\n",
       "      <td>11.3</td>\n",
       "      <td>989.6</td>\n",
       "      <td>788.9</td>\n",
       "      <td>28.0</td>\n",
       "    </tr>\n",
       "    <tr>\n",
       "      <th>1029</th>\n",
       "      <td>260.9</td>\n",
       "      <td>100.5</td>\n",
       "      <td>200.6</td>\n",
       "      <td>8.6</td>\n",
       "      <td>864.5</td>\n",
       "      <td>761.5</td>\n",
       "      <td>28.0</td>\n",
       "    </tr>\n",
       "  </tbody>\n",
       "</table>\n",
       "<p>1030 rows × 7 columns</p>\n",
       "</div>"
      ],
      "text/plain": [
       "      cement   slag  water  superplasticizer  coarseaggregate  fineaggregate  \\\n",
       "0      540.0    0.0  162.0               2.5           1040.0          676.0   \n",
       "1      540.0    0.0  162.0               2.5           1055.0          676.0   \n",
       "2      332.5  142.5  228.0               0.0            932.0          594.0   \n",
       "3      332.5  142.5  228.0               0.0            932.0          594.0   \n",
       "4      198.6  132.4  192.0               0.0            978.4          825.5   \n",
       "...      ...    ...    ...               ...              ...            ...   \n",
       "1025   276.4  116.0  179.6               8.9            870.1          768.3   \n",
       "1026   322.2    0.0  196.0              10.4            817.9          813.4   \n",
       "1027   148.5  139.4  192.7               6.1            892.4          780.0   \n",
       "1028   159.1  186.7  175.6              11.3            989.6          788.9   \n",
       "1029   260.9  100.5  200.6               8.6            864.5          761.5   \n",
       "\n",
       "        age  \n",
       "0      28.0  \n",
       "1      28.0  \n",
       "2     129.5  \n",
       "3     129.5  \n",
       "4     129.5  \n",
       "...     ...  \n",
       "1025   28.0  \n",
       "1026   28.0  \n",
       "1027   28.0  \n",
       "1028   28.0  \n",
       "1029   28.0  \n",
       "\n",
       "[1030 rows x 7 columns]"
      ]
     },
     "execution_count": 12,
     "metadata": {},
     "output_type": "execute_result"
    }
   ],
   "source": [
    "X"
   ]
  },
  {
   "cell_type": "code",
   "execution_count": 13,
   "id": "fd59547d",
   "metadata": {},
   "outputs": [
    {
     "name": "stdout",
     "output_type": "stream",
     "text": [
      "R2 Skoru:  0.7253021348174298\n"
     ]
    }
   ],
   "source": [
    "X_train, X_test, y_train, y_test = train_test_split(X, y, test_size=0.2, random_state=42)\n",
    "model = LinearRegression()\n",
    "model.fit(X_train, y_train)\n",
    "y_pred = model.predict(X_test)\n",
    "r2 = r2_score(y_test, y_pred)\n",
    "print(\"R2 Skoru: \", r2)"
   ]
  },
  {
   "cell_type": "code",
   "execution_count": 15,
   "id": "0c6b4290",
   "metadata": {},
   "outputs": [
    {
     "name": "stdout",
     "output_type": "stream",
     "text": [
      "En İyi Parametreler: {'fit_intercept': True, 'positive': False}\n",
      "R2 Skoru (GridSearch ve Çapraz Doğrulama): 0.6650179141164225\n"
     ]
    }
   ],
   "source": [
    "from sklearn.model_selection import GridSearchCV\n",
    "from sklearn.metrics import make_scorer\n",
    "from sklearn.model_selection import cross_val_score\n",
    "from sklearn.model_selection import cross_val_predict\n",
    "param_grid = {'fit_intercept': [True, False], 'positive': [True, False]}\n",
    "grid_search = GridSearchCV(model, param_grid, scoring=make_scorer(r2_score), cv=10)\n",
    "grid_search.fit(X, y)\n",
    "best_params = grid_search.best_params_\n",
    "best_model = grid_search.best_estimator_\n",
    "y_pred_cv = cross_val_predict(best_model, X, y, cv=10)\n",
    "r2_cv = r2_score(y, y_pred_cv)\n",
    "print(\"En İyi Parametreler:\", best_params)\n",
    "print(\"R2 Skoru (GridSearch ve Çapraz Doğrulama):\", r2_cv)"
   ]
  },
  {
   "cell_type": "code",
   "execution_count": 16,
   "id": "9004130a",
   "metadata": {},
   "outputs": [
    {
     "name": "stdout",
     "output_type": "stream",
     "text": [
      "En İyi Parametreler: {'fit_intercept': True, 'positive': False}\n",
      "R2 Skoru (GridSearch ve Çapraz Doğrulama): 0.6890579528293208\n"
     ]
    }
   ],
   "source": [
    "beton_filtered = beton.drop(['coarseaggregate', 'fineaggregate'], axis=1)\n",
    "X_filtered = beton_filtered.drop('csMPa', axis=1)\n",
    "y_filtered = beton_filtered['csMPa']\n",
    "model_filtered = LinearRegression()\n",
    "param_grid_filtered = {'fit_intercept': [True], 'positive': [True, False]}\n",
    "grid_search_filtered = GridSearchCV(model_filtered, param_grid_filtered, scoring=make_scorer(r2_score), cv=10)\n",
    "grid_search_filtered.fit(X_filtered, y_filtered)\n",
    "best_params_filtered = grid_search_filtered.best_params_\n",
    "best_model_filtered = grid_search_filtered.best_estimator_\n",
    "y_pred_cv_filtered = cross_val_predict(best_model_filtered, X_filtered, y_filtered, cv=10)\n",
    "r2_cv_filtered = r2_score(y_filtered, y_pred_cv_filtered)\n",
    "print(\"En İyi Parametreler:\", best_params_filtered)\n",
    "print(\"R2 Skoru (GridSearch ve Çapraz Doğrulama):\", r2_cv_filtered)"
   ]
  },
  {
   "cell_type": "code",
   "execution_count": 17,
   "id": "4a65a5fa",
   "metadata": {},
   "outputs": [
    {
     "data": {
      "image/png": "[encoded data removed]",
      "text/plain": [
       "<Figure size 1000x800 with 2 Axes>"
      ]
     },
     "metadata": {},
     "output_type": "display_data"
    }
   ],
   "source": [
    "import seaborn as sns\n",
    "correlation_matrix = beton.corr()\n",
    "plt.figure(figsize=(10, 8))\n",
    "sns.heatmap(correlation_matrix, annot=True, cmap='coolwarm', fmt=\".2f\", linewidths=.5)\n",
    "plt.title('Beton Veri Seti Korelasyon Matrisi')\n",
    "plt.show()"
   ]
  },
  {
   "cell_type": "code",
   "execution_count": 18,
   "id": "9783a70a",
   "metadata": {},
   "outputs": [
    {
     "name": "stdout",
     "output_type": "stream",
     "text": [
      "                    cement      slag    flyash     water  superplasticizer  \\\n",
      "cement            1.000000 -0.275239 -0.397467 -0.081617          0.079619   \n",
      "slag             -0.275239  1.000000 -0.323590  0.107031          0.043724   \n",
      "flyash           -0.397467 -0.323590  1.000000 -0.258379          0.395319   \n",
      "water            -0.081617  0.107031 -0.258379  1.000000         -0.665260   \n",
      "superplasticizer  0.079619  0.043724  0.395319 -0.665260          1.000000   \n",
      "coarseaggregate  -0.109349 -0.284023 -0.009961 -0.180249         -0.261624   \n",
      "fineaggregate    -0.225311 -0.283263  0.080962 -0.448979          0.216947   \n",
      "age               0.054325 -0.052703 -0.092704  0.189637         -0.122913   \n",
      "csMPa             0.498008  0.134621 -0.105577 -0.290969          0.366235   \n",
      "\n",
      "                  coarseaggregate  fineaggregate       age     csMPa  \n",
      "cement                  -0.109349      -0.225311  0.054325  0.498008  \n",
      "slag                    -0.284023      -0.283263 -0.052703  0.134621  \n",
      "flyash                  -0.009961       0.080962 -0.092704 -0.105577  \n",
      "water                   -0.180249      -0.448979  0.189637 -0.290969  \n",
      "superplasticizer        -0.261624       0.216947 -0.122913  0.366235  \n",
      "coarseaggregate          1.000000      -0.176542  0.012295 -0.165250  \n",
      "fineaggregate           -0.176542       1.000000 -0.096565 -0.169601  \n",
      "age                      0.012295      -0.096565  1.000000  0.469807  \n",
      "csMPa                   -0.165250      -0.169601  0.469807  1.000000  \n"
     ]
    }
   ],
   "source": [
    "correlation_matrix = beton.corr()\n",
    "print(correlation_matrix)\n"
   ]
  },
  {
   "cell_type": "code",
   "execution_count": 19,
   "id": "56e35533",
   "metadata": {},
   "outputs": [
    {
     "name": "stdout",
     "output_type": "stream",
     "text": [
      "cement              10921.580220\n",
      "slag                 7441.885358\n",
      "flyash               4095.616541\n",
      "water                 450.502833\n",
      "superplasticizer       33.668504\n",
      "coarseaggregate      6045.677357\n",
      "fineaggregate        6370.482633\n",
      "age                  1280.370891\n",
      "csMPa                 278.604391\n",
      "dtype: float64\n"
     ]
    }
   ],
   "source": [
    "import pandas as pd\n",
    "\n",
    "# Beton verisetini yükleyin veya uygun şekilde ayarlayın\n",
    "# Örnek olarak, aşağıdaki kodu kullanabilirsiniz:\n",
    "# beton = pd.read_csv('beton_veri_seti.csv')\n",
    "\n",
    "# Sütunların varyansını hesapla\n",
    "varyanslar = beton.var()\n",
    "\n",
    "# Varyansları yazdır\n",
    "print(varyanslar)\n"
   ]
  },
  {
   "cell_type": "code",
   "execution_count": 20,
   "id": "778a2cc6",
   "metadata": {},
   "outputs": [
    {
     "name": "stdout",
     "output_type": "stream",
     "text": [
      "cement              10921.580220\n",
      "slag                 7441.885358\n",
      "flyash               4095.616541\n",
      "water                 450.502833\n",
      "superplasticizer       33.668504\n",
      "coarseaggregate      6045.677357\n",
      "fineaggregate        6370.482633\n",
      "age                  1280.370891\n",
      "dtype: float64\n"
     ]
    }
   ],
   "source": [
    "import pandas as pd\n",
    "\n",
    "# Beton verisetini yükleyin veya uygun şekilde ayarlayın\n",
    "# Örnek olarak, aşağıdaki kodu kullanabilirsiniz:\n",
    "# beton = pd.read_csv('beton_veri_seti.csv')\n",
    "\n",
    "# csMPa'ya göre sütunların varyansını hesapla\n",
    "varyanslar = beton.drop('csMPa', axis=1).var()\n",
    "\n",
    "# Varyansları yazdır\n",
    "print(varyanslar)\n"
   ]
  },
  {
   "cell_type": "code",
   "execution_count": 23,
   "id": "bd01358c",
   "metadata": {},
   "outputs": [
    {
     "name": "stdout",
     "output_type": "stream",
     "text": [
      "Hataların Varyansı: 70.74029496218783\n"
     ]
    }
   ],
   "source": [
    "import pandas as pd\n",
    "import numpy as np\n",
    "from sklearn.linear_model import LinearRegression\n",
    "from sklearn.model_selection import train_test_split\n",
    "\n",
    "# Modelin tahminlerini yap\n",
    "csMPa_tahmin = model.predict(X_test)\n",
    "\n",
    "# Hataları hesapla\n",
    "hatalar = y_test - csMPa_tahmin\n",
    "\n",
    "# Hataların varyansını hesapla\n",
    "varyans = np.var(hatalar)\n",
    "\n",
    "print(\"Hataların Varyansı:\", varyans)\n"
   ]
  },
  {
   "cell_type": "code",
   "execution_count": 30,
   "id": "5ff3a617",
   "metadata": {},
   "outputs": [
    {
     "name": "stdout",
     "output_type": "stream",
     "text": [
      "En İyi Parametreler: {'fit_intercept': True, 'positive': True}\n",
      "R2 Skoru (GridSearch ve Çapraz Doğrulama): 0.6537528524550833\n"
     ]
    }
   ],
   "source": [
    "beton_filtered = beton.drop(['superplasticizer', 'water'], axis=1)\n",
    "X_filtered = beton_filtered.drop('csMPa', axis=1)\n",
    "y_filtered = beton_filtered['csMPa']\n",
    "model_filtered = LinearRegression()\n",
    "param_grid_filtered = {'fit_intercept': [True], 'positive': [True, False]}\n",
    "grid_search_filtered = GridSearchCV(model_filtered, param_grid_filtered, scoring=make_scorer(r2_score), cv=10)\n",
    "grid_search_filtered.fit(X_filtered, y_filtered)\n",
    "best_params_filtered = grid_search_filtered.best_params_\n",
    "best_model_filtered = grid_search_filtered.best_estimator_\n",
    "y_pred_cv_filtered = cross_val_predict(best_model_filtered, X_filtered, y_filtered, cv=10)\n",
    "r2_cv_filtered = r2_score(y_filtered, y_pred_cv_filtered)\n",
    "print(\"En İyi Parametreler:\", best_params_filtered)\n",
    "print(\"R2 Skoru (GridSearch ve Çapraz Doğrulama):\", r2_cv_filtered)"
   ]
  },
  {
   "cell_type": "code",
   "execution_count": null,
   "id": "23a4231b",
   "metadata": {},
   "outputs": [],
   "source": []
  }
 ],
 "metadata": {
  "kernelspec": {
   "display_name": "Python 3 (ipykernel)",
   "language": "python",
   "name": "python3"
  },
  "language_info": {
   "codemirror_mode": {
    "name": "ipython",
    "version": 3
   },
   "file_extension": ".py",
   "mimetype": "text/x-python",
   "name": "python",
   "nbconvert_exporter": "python",
   "pygments_lexer": "ipython3",
   "version": "3.9.18"
  }
 },
 "nbformat": 4,
 "nbformat_minor": 5
}
